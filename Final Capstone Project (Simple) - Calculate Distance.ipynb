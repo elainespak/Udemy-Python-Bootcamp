{
 "cells": [
  {
   "cell_type": "markdown",
   "metadata": {
    "collapsed": true
   },
   "source": [
    "# Final Capstone Projects\n",
    "\n",
    "Please refer to the [**Final Capstone Projects**](http://nbviewer.jupyter.org/github/jmportilla/Complete-Python-Bootcamp/tree/master/Final%20Capstone%20Projects/) folder to get all the info on final capstone project ideas and possible solutions!"
   ]
  },
  {
   "cell_type": "code",
   "execution_count": 25,
   "metadata": {},
   "outputs": [
    {
     "name": "stdout",
     "output_type": "stream",
     "text": [
      "Name of the first city (e.g., New York City, NY): Durham, NC\n",
      "Name of the second city (e.g., Washington, NJ): Los Angeles, CA\n",
      "What unit for calculating distance?: mile\n",
      "The distance between Durham, NC and Los Angeles, CA is in mile is 2219.859637538767.\n"
     ]
    }
   ],
   "source": [
    "### Simple Project: Distance Between Two Cities\n",
    "### Calculates the distance between two cities and allows the user to specify a unit of distance.\n",
    "\n",
    "from geopy.geocoders import Nominatim\n",
    "from geopy.distance import geodesic\n",
    "\n",
    "geolocator = Nominatim()\n",
    "\n",
    "# Get user inputs on cities\n",
    "city1 = input(\"Name of the first city (e.g., New York City, NY): \")\n",
    "city2 = input(\"Name of the second city (e.g., Washington, NJ): \")\n",
    "\n",
    "# Calculate the latitudes and longitudes of the cities\n",
    "location1 = geolocator.geocode(city1)\n",
    "location2 = geolocator.geocode(city2)\n",
    "latlong1 = (location1.latitude, location1.longitude)\n",
    "latlong2 = (location2.latitude, location2.longitude)\n",
    "\n",
    "# Dictionary to convert the distance in the unit that the user wants\n",
    "unit_dict = {'mile': 1, 'km': 0.621371, 'm':0.0006213709999975145, 'cm':6.2137e-6,\n",
    "             'yard':0.000568182, 'ft': 0.000189394, 'inch':1.578283320707e-5}\n",
    "\n",
    "while True:\n",
    "    \n",
    "    # Get user input on distance unit\n",
    "    dist_unit = input(\"What unit for calculating distance?: \")\n",
    "    dist_unit = dist_unit.lower()\n",
    "        \n",
    "    if 'mile' in dist_unit:\n",
    "        conv = unit_dict['mile']\n",
    "        break\n",
    "    elif 'km' == dist_unit or 'kilometer' == dist_unit:\n",
    "        conv = unit_dict['km']\n",
    "        break\n",
    "    elif 'm' == dist_unit or 'meter' == dist_unit:\n",
    "        conv = unit_dict['m']\n",
    "        break\n",
    "    elif 'cm' == dist_unit or 'centimeter' == dist_unit:\n",
    "        conv = unit_dict['cm']\n",
    "        break\n",
    "    else:\n",
    "        print('Wrong unit - please type again!')\n",
    "        pass\n",
    "\n",
    "# Calculate the distance between them in miles\n",
    "dist = geodesic(latlong1, latlong2).miles\n",
    "\n",
    "# Convert the distance into user's desired unit\n",
    "output = dist*conv\n",
    "\n",
    "# Final answer\n",
    "print(f'The distance between {city1} and {city2} is in {dist_unit} is {output}.')"
   ]
  },
  {
   "cell_type": "code",
   "execution_count": 31,
   "metadata": {},
   "outputs": [
    {
     "name": "stdout",
     "output_type": "stream",
     "text": [
      "Name of the first city (e.g., New York City, NY): NYC, NY\n",
      "Name of the second city (e.g., Washington, NJ): LA, CA\n",
      "What unit for calculating distance?: km\n",
      "The distance between NYC, NY and LA, CA is in km is 1245.458503874055.\n",
      "Do you want to calculate more distance? Type Y for yes, N for no: N\n"
     ]
    }
   ],
   "source": [
    "### Simple Project: Distance Between Two Cities\n",
    "### Calculates the distance between two cities and allows the user to specify a unit of distance.\n",
    "\n",
    "from geopy.geocoders import Nominatim\n",
    "from geopy.distance import geodesic\n",
    "\n",
    "geolocator = Nominatim()\n",
    "playing = True\n",
    "\n",
    "while playing is True:\n",
    "    \n",
    "    # Get user inputs on cities\n",
    "    city1 = input(\"Name of the first city (e.g., New York City, NY): \")\n",
    "    city2 = input(\"Name of the second city (e.g., Washington, NJ): \")\n",
    "\n",
    "    # Calculate the latitudes and longitudes of the cities\n",
    "    location1 = geolocator.geocode(city1)\n",
    "    location2 = geolocator.geocode(city2)\n",
    "    latlong1 = (location1.latitude, location1.longitude)\n",
    "    latlong2 = (location2.latitude, location2.longitude)\n",
    "\n",
    "    # Dictionary to convert the distance in the unit that the user wants\n",
    "    unit_dict = {'mile': 1, 'km': 0.621371, 'm':0.0006213709999975145, 'cm':6.2137e-6,\n",
    "                 'yard':0.000568182, 'ft': 0.000189394, 'inch':1.578283320707e-5}\n",
    "\n",
    "    while True:\n",
    "    \n",
    "        # Get user input on distance unit\n",
    "        dist_unit = input(\"What unit for calculating distance?: \")\n",
    "        dist_unit = dist_unit.lower()\n",
    "        \n",
    "        if 'mile' in dist_unit:\n",
    "            conv = unit_dict['mile']\n",
    "            break\n",
    "        elif 'km' == dist_unit or 'kilometer' == dist_unit:\n",
    "            conv = unit_dict['km']\n",
    "            break\n",
    "        elif 'm' == dist_unit or 'meter' == dist_unit:\n",
    "            conv = unit_dict['m']\n",
    "            break\n",
    "        elif 'cm' == dist_unit or 'centimeter' == dist_unit:\n",
    "            conv = unit_dict['cm']\n",
    "            break\n",
    "        else:\n",
    "            print('Wrong unit - please type again!')\n",
    "            pass\n",
    "\n",
    "    # Calculate the distance between them in miles\n",
    "    dist = geodesic(latlong1, latlong2).miles\n",
    "\n",
    "    # Convert the distance into user's desired unit\n",
    "    output = dist*conv\n",
    "\n",
    "    # Final answer\n",
    "    print(f'The distance between {city1} and {city2} is in {dist_unit} is {output}.')\n",
    "    \n",
    "    play_again = input('Do you want to calculate more distance? Type Y for yes, N for no: ')\n",
    "    if play_again == 'Y':\n",
    "        playing = True\n",
    "        continue\n",
    "    elif play_again == 'N':\n",
    "        break"
   ]
  },
  {
   "cell_type": "code",
   "execution_count": null,
   "metadata": {},
   "outputs": [],
   "source": []
  }
 ],
 "metadata": {
  "kernelspec": {
   "display_name": "Python 3",
   "language": "python",
   "name": "python3"
  },
  "language_info": {
   "codemirror_mode": {
    "name": "ipython",
    "version": 3
   },
   "file_extension": ".py",
   "mimetype": "text/x-python",
   "name": "python",
   "nbconvert_exporter": "python",
   "pygments_lexer": "ipython3",
   "version": "3.6.1"
  }
 },
 "nbformat": 4,
 "nbformat_minor": 1
}
