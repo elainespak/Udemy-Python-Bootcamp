{
 "cells": [
  {
   "cell_type": "markdown",
   "metadata": {},
   "source": [
    "# Milestone Project 2 - Blackjack Game\n",
    "In this milestone project you will be creating a Complete BlackJack Card Game in Python.\n",
    "\n",
    "Here are the requirements:\n",
    "\n",
    "* You need to create a simple text-based [BlackJack](https://en.wikipedia.org/wiki/Blackjack) game\n",
    "* The game needs to have one player versus an automated dealer.\n",
    "* The player can stand or hit.\n",
    "* The player must be able to pick their betting amount.\n",
    "* You need to keep track of the player's total money.\n",
    "* You need to alert the player of wins, losses, or busts, etc...\n",
    "\n",
    "And most importantly:\n",
    "\n",
    "* **You must use OOP and classes in some portion of your game. You can not just use functions in your game. Use classes to help you define the Deck and the Player's hand. There are many right ways to do this, so explore it well!**\n",
    "\n",
    "\n",
    "Feel free to expand this game. Try including multiple players. Try adding in Double-Down and card splits! Remember to you are free to use any resources you want and as always:\n",
    "\n",
    "# HAVE FUN!"
   ]
  },
  {
   "cell_type": "code",
   "execution_count": 1,
   "metadata": {},
   "outputs": [
    {
     "data": {
      "text/plain": [
       "'Two'"
      ]
     },
     "execution_count": 1,
     "metadata": {},
     "output_type": "execute_result"
    }
   ],
   "source": [
    "import random\n",
    "        \n",
    "suits = ('Hearts', 'Diamonds', 'Cloves', 'Spades')\n",
    "ranks = ('Two', 'Three', 'Four', 'Five', 'Six', 'Seven', 'Eight', 'Nine', 'Ten', 'Jack', 'Queen', 'King', 'Ace')\n",
    "values = {'Two':2, 'Three':3, 'Four':4, 'Five':5, 'Six':6, 'Seven':7, 'Eight':8, 'Nine':9, 'Ten':10, 'Jack':10,\n",
    "         'Queen':10, 'King':10, 'Ace':11}\n",
    "playing = True\n",
    "\n",
    "class Card:\n",
    "    \n",
    "    def __init__(self, suit, rank):\n",
    "        self.suit = suit\n",
    "        self.rank = rank\n",
    "        \n",
    "    def __str__(self):\n",
    "        return self.rank + \" of \" + self.suit\n",
    "\n",
    "# Example\n",
    "example = Card(suit = 'Hearts', rank = 'Two')\n",
    "example.rank"
   ]
  },
  {
   "cell_type": "code",
   "execution_count": 2,
   "metadata": {},
   "outputs": [],
   "source": [
    "class Deck:\n",
    "    \n",
    "    def __init__(self):\n",
    "        self.deck = []\n",
    "        for suit in suits:\n",
    "            for rank in ranks:\n",
    "                self.deck.append(Card(suit = suit, rank = rank))\n",
    "                \n",
    "    def __str__(self):\n",
    "        deck_comp = ''\n",
    "        for card in self.deck:\n",
    "            deck_comp += '\\n '+card.__str__()\n",
    "        return 'The deck has:' + deck_comp\n",
    "    \n",
    "    def shuffle(self):\n",
    "        random.shuffle(self.deck)\n",
    "    \n",
    "    def deal(self):\n",
    "        dealt_card = self.deck.pop()\n",
    "        return dealt_card"
   ]
  },
  {
   "cell_type": "code",
   "execution_count": null,
   "metadata": {},
   "outputs": [],
   "source": [
    "# Example deck\n",
    "example_deck = Deck()\n",
    "example_deck.deal().rank # return the rank"
   ]
  },
  {
   "cell_type": "code",
   "execution_count": 3,
   "metadata": {},
   "outputs": [],
   "source": [
    "class Hand:\n",
    "    \n",
    "    def __init__(self):\n",
    "        self.cards = []\n",
    "        self.values = 0\n",
    "        \n",
    "    def add_card(self, card):\n",
    "        self.cards.append(card)\n",
    "        if card.rank == 'Ace':\n",
    "            if self.values <= 10:\n",
    "                self.values += 11\n",
    "            else:\n",
    "                self.values += 1\n",
    "        else:\n",
    "            self.values += values[card.rank]"
   ]
  },
  {
   "cell_type": "code",
   "execution_count": null,
   "metadata": {},
   "outputs": [],
   "source": [
    "example_deck = Deck()\n",
    "example_deck.shuffle()\n",
    "example_player = Hand()"
   ]
  },
  {
   "cell_type": "code",
   "execution_count": null,
   "metadata": {},
   "outputs": [],
   "source": [
    "example_player.add_card(example_deck.deal())\n",
    "example_player.add_card(example_deck.deal())"
   ]
  },
  {
   "cell_type": "code",
   "execution_count": null,
   "metadata": {},
   "outputs": [],
   "source": [
    "example_player.values"
   ]
  },
  {
   "cell_type": "code",
   "execution_count": null,
   "metadata": {},
   "outputs": [],
   "source": [
    "for card in example_player.cards:\n",
    "    print(card)"
   ]
  },
  {
   "cell_type": "code",
   "execution_count": 4,
   "metadata": {},
   "outputs": [],
   "source": [
    "class Chips:\n",
    "    \n",
    "    def __init__(self):\n",
    "        self.total = 1000\n",
    "        self.bet = 0\n",
    "        \n",
    "    def win_bet(self, hand):\n",
    "        if values[hand.cards[0].rank] + values[hand.cards[1].rank] == 21:\n",
    "            self.total += (self.bet)*(1.5)\n",
    "        else:\n",
    "            self.total += self.bet\n",
    "    \n",
    "    def lose_bet(self):\n",
    "        self.total -= self.bet"
   ]
  },
  {
   "cell_type": "code",
   "execution_count": 5,
   "metadata": {},
   "outputs": [],
   "source": [
    "def take_bet(chips):\n",
    "    \n",
    "    while True:\n",
    "        try:\n",
    "            chips.bet = int(input('How much would you like to bet?: '))\n",
    "        except:\n",
    "            print('Invalid value, please try again.')\n",
    "        finally:\n",
    "            if chips.bet <= 0:\n",
    "                print('The value must be bigger than 0.')\n",
    "            else:\n",
    "                print(f'You are betting {chips.bet} on this round.')\n",
    "                print(f'You have {chips.total - chips.bet} chips left.')\n",
    "                break"
   ]
  },
  {
   "cell_type": "code",
   "execution_count": 6,
   "metadata": {},
   "outputs": [],
   "source": [
    "def hit(deck, hand):\n",
    "    new_card = deck.deal()\n",
    "    hand.add_card(new_card)\n",
    "    pass"
   ]
  },
  {
   "cell_type": "code",
   "execution_count": 7,
   "metadata": {},
   "outputs": [],
   "source": [
    "def hit_or_stand(deck, hand):\n",
    "    \n",
    "    global playing  # to control an upcoming while loop\n",
    "    playing = input('Type H if hit, and S if stand: ')\n",
    "    \n",
    "    if playing == 'H':\n",
    "        hit(deck, hand)\n",
    "    else:\n",
    "        print('ok') # fix later..\n",
    "    pass"
   ]
  },
  {
   "cell_type": "code",
   "execution_count": 8,
   "metadata": {},
   "outputs": [],
   "source": [
    "def show_some(player, dealer):\n",
    "    # player = hand(), dealer = hand()\n",
    "    \n",
    "    print(\"\\nDealer's cards are:\")\n",
    "    print(\"?\")\n",
    "    for card in dealer.cards[:-1]:\n",
    "        print(card)\n",
    "    \n",
    "    print(\"\\nYour cards are:\")\n",
    "    for card in player.cards:\n",
    "        print(card)    "
   ]
  },
  {
   "cell_type": "code",
   "execution_count": 9,
   "metadata": {},
   "outputs": [],
   "source": [
    "def show_all(player, dealer):\n",
    "    # player = hand(), dealer = hand()\n",
    "    \n",
    "    print(\"\\nDealer's cards are:\")\n",
    "    for card in dealer.cards:\n",
    "        print(card)\n",
    "    \n",
    "    print(\"\\nYour cards are:\")\n",
    "    for card in player.cards:\n",
    "        print(card)    "
   ]
  },
  {
   "cell_type": "code",
   "execution_count": 10,
   "metadata": {},
   "outputs": [
    {
     "data": {
      "text/plain": [
       "'\\ndef dealer_busts():\\n    pass\\n    \\ndef dealer_wins():\\n    pass\\n    \\ndef push():\\n    pass\\n'"
      ]
     },
     "execution_count": 10,
     "metadata": {},
     "output_type": "execute_result"
    }
   ],
   "source": [
    "def player_busts(chips):\n",
    "    chips.lose_bet()\n",
    "\n",
    "def player_wins(chips):\n",
    "    chips.win_bet(player_hand)\n",
    "'''\n",
    "def dealer_busts():\n",
    "    pass\n",
    "    \n",
    "def dealer_wins():\n",
    "    pass\n",
    "    \n",
    "def push():\n",
    "    pass\n",
    "'''"
   ]
  },
  {
   "cell_type": "code",
   "execution_count": 12,
   "metadata": {},
   "outputs": [
    {
     "name": "stdout",
     "output_type": "stream",
     "text": [
      "Welcome to Blackjack! You will play this game with an automated dealer.\n",
      "How much would you like to bet?: 100\n",
      "You are betting 100 on this round.\n",
      "You have 900 chips left.\n",
      "\n",
      "Dealer's cards are:\n",
      "?\n",
      "Ten of Diamonds\n",
      "\n",
      "Your cards are:\n",
      "Jack of Diamonds\n",
      "Seven of Spades\n",
      "Type H if hit, and S if stand: S\n",
      "ok\n",
      "\n",
      "Dealer's cards are:\n",
      "Ten of Diamonds\n",
      "Three of Diamonds\n",
      "\n",
      "Your cards are:\n",
      "Jack of Diamonds\n",
      "Seven of Spades\n",
      "\n",
      "Dealer's cards are:\n",
      "Ten of Diamonds\n",
      "Three of Diamonds\n",
      "Six of Hearts\n",
      "\n",
      "Your cards are:\n",
      "Jack of Diamonds\n",
      "Seven of Spades\n",
      "\n",
      "You lost, player.\n",
      "\n",
      "Dealer's cards are:\n",
      "Ten of Diamonds\n",
      "Three of Diamonds\n",
      "Six of Hearts\n",
      "\n",
      "Your cards are:\n",
      "Jack of Diamonds\n",
      "Seven of Spades\n",
      "Player, you have 800 chips left.\n",
      "Do you want to play again? Type Y for yes, N for no: Y\n",
      "Welcome to Blackjack! You will play this game with an automated dealer.\n",
      "How much would you like to bet?: 600\n",
      "You are betting 600 on this round.\n",
      "You have 200 chips left.\n",
      "\n",
      "Dealer's cards are:\n",
      "?\n",
      "Ten of Hearts\n",
      "\n",
      "Your cards are:\n",
      "Queen of Cloves\n",
      "Ace of Diamonds\n",
      "\n",
      "Congratulations, player, you won!\n",
      "\n",
      "Dealer's cards are:\n",
      "Ten of Hearts\n",
      "Four of Hearts\n",
      "\n",
      "Your cards are:\n",
      "Queen of Cloves\n",
      "Ace of Diamonds\n",
      "Player, you have 2600.0 chips left.\n",
      "Do you want to play again? Type Y for yes, N for no: 100\n"
     ]
    }
   ],
   "source": [
    "player_chips = Chips()\n",
    "\n",
    "while True:\n",
    "    # Print an opening statement\n",
    "    print('Welcome to Blackjack! You will play this game with an automated dealer.')\n",
    "    \n",
    "    # Create & shuffle the deck, deal two cards to each player\n",
    "    game_deck = Deck()\n",
    "    game_deck.shuffle()\n",
    "    \n",
    "    player_hand = Hand()\n",
    "    player_hand.add_card(game_deck.deal())\n",
    "    player_hand.add_card(game_deck.deal())\n",
    "    \n",
    "    dealer_hand = Hand()\n",
    "    dealer_hand.add_card(game_deck.deal())\n",
    "    dealer_hand.add_card(game_deck.deal())\n",
    "    \n",
    "    # Set up the Player's chips\n",
    "    #player_chips = Chips()\n",
    "    \n",
    "    # Prompt the Player for their bet\n",
    "    take_bet(player_chips)\n",
    "    \n",
    "    # Show cards (but keep one dealer card hidden)\n",
    "    show_some(player_hand, dealer_hand)\n",
    "\n",
    "    \n",
    "    while playing:  # hit_or_stand function but what does it do..?\n",
    "       \n",
    "        # If player's hand is 21, the player wins\n",
    "        if player_hand.values == 21:\n",
    "            player_wins(player_chips)\n",
    "            print('\\nCongratulations, player, you won!')\n",
    "            show_all(player_hand, dealer_hand)\n",
    "            player_chips.win_bet(player_hand)\n",
    "            break\n",
    "        \n",
    "        # Prompt for Player to Hit or Stand\n",
    "        while player_hand.values < 21:\n",
    "            hit_or_stand(game_deck, player_hand)\n",
    "            \n",
    "            if playing == 'S':\n",
    "                break\n",
    "            else:\n",
    "                # Show cards (but keep one dealer card hidden)\n",
    "                show_some(player_hand, dealer_hand)\n",
    "        \n",
    "        # If player's hand exceeds 21, run player_busts() and break out of loop\n",
    "        if player_hand.values > 21:\n",
    "            player_busts(player_chips)\n",
    "            print('\\nYou lost, player.')\n",
    "            show_all(player_hand, dealer_hand)\n",
    "            player_chips.lose_bet()\n",
    "            break\n",
    "\n",
    "    # If Player hasn't busted, play Dealer's hand until Dealer reaches 17\n",
    "        else:\n",
    "            # Show all cards\n",
    "            show_all(player_hand, dealer_hand)\n",
    "        \n",
    "            while dealer_hand.values < 17:\n",
    "                hit(game_deck, dealer_hand)\n",
    "                show_all(player_hand, dealer_hand)\n",
    "            \n",
    "                if dealer_hand.values > 21:\n",
    "                    player_wins(player_chips)\n",
    "                    print('\\nCongratulations, player, you won!')\n",
    "                    player_chips.win_bet(player_hand)\n",
    "                    break     \n",
    "        \n",
    "            if player_hand.values <= dealer_hand.values:\n",
    "                player_busts(player_chips)\n",
    "                print('\\nYou lost, player.')\n",
    "                show_all(player_hand, dealer_hand)\n",
    "                player_chips.lose_bet()\n",
    "                break\n",
    "            else:\n",
    "                player_wins(player_chips)\n",
    "                print('\\nCongratulations, player, you won!')\n",
    "                show_all(player_hand, dealer_hand)\n",
    "                player_chips.win_bet(player_hand)\n",
    "                break\n",
    "  \n",
    "        # Run different winning scenarios\n",
    "        \n",
    "    \n",
    "    # Inform Player of their chips total \n",
    "    print(f'Player, you have {player_chips.total} chips left.')\n",
    "    \n",
    "    # Ask to play again\n",
    "    play_again = input('Do you want to play again? Type Y for yes, N for no: ')\n",
    "    if play_again == 'Y':\n",
    "        playing = True\n",
    "        continue\n",
    "    else:\n",
    "        break"
   ]
  },
  {
   "cell_type": "code",
   "execution_count": null,
   "metadata": {},
   "outputs": [],
   "source": [
    "# Need to figure out why the bet amount is inaccurate"
   ]
  }
 ],
 "metadata": {
  "kernelspec": {
   "display_name": "Python 3",
   "language": "python",
   "name": "python3"
  },
  "language_info": {
   "codemirror_mode": {
    "name": "ipython",
    "version": 3
   },
   "file_extension": ".py",
   "mimetype": "text/x-python",
   "name": "python",
   "nbconvert_exporter": "python",
   "pygments_lexer": "ipython3",
   "version": "3.6.1"
  }
 },
 "nbformat": 4,
 "nbformat_minor": 1
}
