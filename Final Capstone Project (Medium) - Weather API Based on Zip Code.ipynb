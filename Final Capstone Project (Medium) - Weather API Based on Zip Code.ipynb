{
 "cells": [
  {
   "cell_type": "markdown",
   "metadata": {
    "collapsed": true
   },
   "source": [
    "# Final Capstone Projects\n",
    "\n",
    "Please refer to the [**Final Capstone Projects**](http://nbviewer.jupyter.org/github/jmportilla/Complete-Python-Bootcamp/tree/master/Final%20Capstone%20Projects/) folder to get all the info on final capstone project ideas and possible solutions!"
   ]
  },
  {
   "cell_type": "code",
   "execution_count": 78,
   "metadata": {},
   "outputs": [],
   "source": [
    "# Fetch Current Weather\n",
    "# Optional: Try locating the user automatically.\n",
    "\n",
    "# Import necessary packages\n",
    "\n",
    "import geocoder\n",
    "from bs4 import BeautifulSoup\n",
    "import requests\n",
    "from uszipcode import ZipcodeSearchEngine\n",
    "import re"
   ]
  },
  {
   "cell_type": "code",
   "execution_count": 95,
   "metadata": {},
   "outputs": [],
   "source": [
    "# Ask user for zipcode\n",
    "\n",
    "def get_zipcode():\n",
    "    \n",
    "    global zipcode\n",
    "    \n",
    "    while True:\n",
    "        zipcode = str(input('Type in your 5-digit zip code: '))\n",
    "        #print('Invalid, please try again.')\n",
    "        if len(zipcode) == 5 and zipcode.isdigit() == True:\n",
    "            print(f'Your zip code is {zipcode}.')\n",
    "            break\n",
    "        else:\n",
    "            print('Invalid, zip code has to be a number and 5-digit.')\n",
    "            \n",
    "    return zipcode"
   ]
  },
  {
   "cell_type": "code",
   "execution_count": 96,
   "metadata": {},
   "outputs": [],
   "source": [
    "# Randomize IP address\n",
    "\n"
   ]
  },
  {
   "cell_type": "code",
   "execution_count": 113,
   "metadata": {},
   "outputs": [],
   "source": [
    "# Get the link that corresponds to the zipcode\n",
    "\n",
    "def get_link(zipcode):\n",
    "    \n",
    "    global link\n",
    "    global state\n",
    "    global city\n",
    "    \n",
    "    partial_link = ''\n",
    "    \n",
    "    url = 'https://www.wunderground.com/cgi-bin/findweather/getForecast?query=pz:' + zipcode[0:3] + '&zip=1'\n",
    "    page = requests.get(url, timeout = 5)\n",
    "    content = BeautifulSoup(page.content, 'html.parser')\n",
    "    total = len(content.find_all(class_='alert-notice'))\n",
    "    link_list = content.find_all('td')\n",
    "    \n",
    "    for num in range(0, total):\n",
    "        if zipcode == link_list[8*num].find('a').get('href')[-5:]:\n",
    "            partial_link = link_list[8*num].find('a').get('href') # returns the portion of the link that identifies that zipcode\n",
    "        else:\n",
    "            pass\n",
    "        \n",
    "    link = 'https://www.wunderground.com' + partial_link\n",
    "    state = re.split('/', partial_link)[3].upper()\n",
    "    city = re.split('/', partial_link)[4].title()"
   ]
  },
  {
   "cell_type": "code",
   "execution_count": 114,
   "metadata": {},
   "outputs": [],
   "source": [
    "# Retrieve and display weather information\n",
    "\n",
    "def show_weather_info(link):\n",
    "    weather_page = requests.get(link, timeout = 5)\n",
    "    weather_content = BeautifulSoup(weather_page.content, 'html.parser')\n",
    "\n",
    "    feels_like = weather_content.find(class_='feels-like')\n",
    "    weather_quickie = weather_content.find(class_='weather-quickie')\n",
    "    timestamp = weather_content.find(class_='timestamp')\n",
    "    condition_icon = weather_content.find(class_='condition-icon small-6 medium-12 columns').find('p')\n",
    "    condition_wind = weather_content.find(class_='condition-wind small-6 medium-12 columns')\n",
    "\n",
    "    weather = list(feels_like)[0] + list(feels_like)[1].get_text()\n",
    "    update = list(timestamp)[4].get_text() + 'at' + list(timestamp)[1].get_text()\n",
    "    tomorrow = list(weather_quickie)[0] + list(weather_quickie)[1].get_text() + list(weather_quickie)[2]\n",
    "    prec = condition_icon.get_text()\n",
    "    wind = condition_wind.find(class_='wind-speed').find('strong').get_text() + ' ' + condition_wind.find('p').get_text()\n",
    "\n",
    "    print(f'Weather Information in {zipcode} ({city}, {state}): \\n {weather} \\n {update} \\n {tomorrow} \\n {prec} \\n {wind}')"
   ]
  },
  {
   "cell_type": "code",
   "execution_count": 115,
   "metadata": {},
   "outputs": [
    {
     "name": "stdout",
     "output_type": "stream",
     "text": [
      "Type in your 5-digit zip code: 27708\n",
      "Your zip code is 27708.\n",
      "Weather Information in 27708 (Durham, NC): \n",
      " Feels like 68° \n",
      " Updated a few seconds agoat 10:33 PM EDT on May 9, 2018 (GMT -0400) | \n",
      " Tomorrow is forecast to be Much Warmer than today. \n",
      " Clear \n",
      " 0 Wind SE\n"
     ]
    }
   ],
   "source": [
    "get_zipcode()\n",
    "get_link(zipcode)\n",
    "show_weather_info(link)"
   ]
  },
  {
   "cell_type": "code",
   "execution_count": null,
   "metadata": {},
   "outputs": [],
   "source": []
  }
 ],
 "metadata": {
  "kernelspec": {
   "display_name": "Python 3",
   "language": "python",
   "name": "python3"
  },
  "language_info": {
   "codemirror_mode": {
    "name": "ipython",
    "version": 3
   },
   "file_extension": ".py",
   "mimetype": "text/x-python",
   "name": "python",
   "nbconvert_exporter": "python",
   "pygments_lexer": "ipython3",
   "version": "3.6.4"
  }
 },
 "nbformat": 4,
 "nbformat_minor": 1
}
